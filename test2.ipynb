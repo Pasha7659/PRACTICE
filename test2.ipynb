{
 "cells": [
  {
   "cell_type": "markdown",
   "id": "dd4139db-0771-423b-8c15-93eb8f4f1573",
   "metadata": {},
   "source": [
    "### Rules for creating Variables"
   ]
  },
  {
   "cell_type": "markdown",
   "id": "56bdeac8-8759-4172-bbaf-eef62131a0da",
   "metadata": {},
   "source": [
    "- Variables can be written in Alpha numaric .\n",
    "- variables can not start with special chracters except under score.\n",
    "- variable can not start with any digit.\n",
    "- variable can not start with any key word.\n",
    "- variables are case sencitive."
   ]
  },
  {
   "cell_type": "markdown",
   "id": "fc5097d7-f351-4c29-903b-16e8f3ed400a",
   "metadata": {},
   "source": [
    "### what is type function and example"
   ]
  },
  {
   "cell_type": "markdown",
   "id": "132c6871-98d9-4cc4-923e-9b4da2fba7be",
   "metadata": {},
   "source": [
    "- to identify which type of data type is stored in variable."
   ]
  },
  {
   "cell_type": "markdown",
   "id": "789ed93c-7228-401b-9950-c76006967190",
   "metadata": {},
   "source": [
    "example "
   ]
  },
  {
   "cell_type": "code",
   "execution_count": 6,
   "id": "905ab0f5-9574-4b32-9b03-8284dd719338",
   "metadata": {},
   "outputs": [
    {
     "name": "stdout",
     "output_type": "stream",
     "text": [
      "<class 'int'>\n"
     ]
    }
   ],
   "source": [
    "i=10\n",
    "print(type(i))"
   ]
  },
  {
   "cell_type": "markdown",
   "id": "e123e7ae-e6eb-4c9c-9525-1a3e798f5edb",
   "metadata": {},
   "source": [
    "### difference b/w = and ==="
   ]
  },
  {
   "cell_type": "markdown",
   "id": "a4267e08-84e8-42c7-94ea-b5f6157b6121",
   "metadata": {},
   "source": [
    "- = is used to assign value.\n",
    "- == is used to compararing  value."
   ]
  },
  {
   "cell_type": "markdown",
   "id": "246cbc4c-3395-4ea9-9791-6d92d3a05ac9",
   "metadata": {},
   "source": [
    "### Differnce b/w Mutable and in mutable"
   ]
  },
  {
   "cell_type": "markdown",
   "id": "0d615fd8-a827-45df-b3b8-876c25f14e6c",
   "metadata": {},
   "source": [
    "- Mutable is used  to change value.\n",
    "- in Mutable which can not be changed."
   ]
  },
  {
   "cell_type": "markdown",
   "id": "bbaf4a29-e65d-4a23-a893-8b9c61fa08f3",
   "metadata": {},
   "source": [
    "### Write a python code for 1st 10 natural numbers"
   ]
  },
  {
   "cell_type": "code",
   "execution_count": 301,
   "id": "d73be944-2319-4500-9cf4-63461b33c0fc",
   "metadata": {},
   "outputs": [
    {
     "name": "stdout",
     "output_type": "stream",
     "text": [
      "1\n",
      "2\n",
      "3\n",
      "4\n",
      "5\n",
      "6\n",
      "7\n",
      "8\n",
      "9\n",
      "10\n"
     ]
    }
   ],
   "source": [
    "i=1\n",
    "while i<=10:\n",
    "    print(i)\n",
    "    i=i+1"
   ]
  },
  {
   "cell_type": "markdown",
   "id": "eebeb7ca-53a8-474d-a653-a26f004ca31e",
   "metadata": {},
   "source": [
    "### Program for sum of first ten natural numbers"
   ]
  },
  {
   "cell_type": "code",
   "execution_count": 25,
   "id": "6aa45d5e-fcc2-4d6c-903d-6a7ae57ab256",
   "metadata": {},
   "outputs": [
    {
     "name": "stdout",
     "output_type": "stream",
     "text": [
      "1\n",
      "3\n",
      "6\n",
      "10\n",
      "15\n",
      "21\n",
      "28\n",
      "36\n",
      "45\n",
      "55\n"
     ]
    }
   ],
   "source": [
    "num=[1,2,3,4,5,6,7,8,9,10]\n",
    "sum=0\n",
    "for i in num:\n",
    "    sum=sum+i\n",
    "    print(sum)\n"
   ]
  },
  {
   "cell_type": "markdown",
   "id": "f07dfe0f-8978-4990-97e2-731077a01839",
   "metadata": {},
   "source": [
    "### Program for number is prime are not prime"
   ]
  },
  {
   "cell_type": "code",
   "execution_count": 311,
   "id": "828a9b7b-75d6-49da-83fc-542810181968",
   "metadata": {},
   "outputs": [
    {
     "name": "stdin",
     "output_type": "stream",
     "text": [
      "enter a number: 1000\n"
     ]
    },
    {
     "name": "stdout",
     "output_type": "stream",
     "text": [
      "not prime\n"
     ]
    }
   ],
   "source": [
    "num=int(input(\"enter a number:\"))\n",
    "if num > 1:\n",
    "    for i in range(2,(num//2)+1):\n",
    "        if (num % i)==0:\n",
    "            print(\"not prime\")\n",
    "            break\n",
    "    else:    \n",
    "        print(num,'is a prime')\n",
    "else:\n",
    "        print(num,'is not a prime number')"
   ]
  },
  {
   "cell_type": "markdown",
   "id": "0402708a-69dc-4319-bd7b-c7e1e9df1615",
   "metadata": {},
   "source": [
    "### Program for Febonacci series"
   ]
  },
  {
   "cell_type": "code",
   "execution_count": 129,
   "id": "82cee6be-9cf4-4031-a063-09b7dee53c14",
   "metadata": {},
   "outputs": [
    {
     "name": "stdout",
     "output_type": "stream",
     "text": [
      "1\n",
      "1\n",
      "2\n",
      "3\n",
      "5\n",
      "8\n"
     ]
    }
   ],
   "source": [
    "a=0\n",
    "b=1\n",
    "n=10\n",
    "while b<n:\n",
    "    print(b)\n",
    "    a,b=b,a+b\n",
    "    "
   ]
  },
  {
   "cell_type": "markdown",
   "id": "3b6ae748-f0bf-4603-9875-a129c8d4ad65",
   "metadata": {},
   "source": [
    "### Program for finding Factorial of a number"
   ]
  },
  {
   "cell_type": "code",
   "execution_count": 178,
   "id": "6b44d659-d826-43a1-b851-e8ddb01e1499",
   "metadata": {},
   "outputs": [
    {
     "name": "stdin",
     "output_type": "stream",
     "text": [
      "enter a number: 5\n"
     ]
    },
    {
     "name": "stdout",
     "output_type": "stream",
     "text": [
      "120\n"
     ]
    }
   ],
   "source": [
    "num=int(input(\"enter a number:\"))\n",
    "i=1\n",
    "for j in range(1,num+1):\n",
    "    i=i*j\n",
    "print(i)\n",
    "\n",
    "    \n"
   ]
  },
  {
   "cell_type": "markdown",
   "id": "ffa5623a-0ccd-42c2-ac7f-3693a44e522b",
   "metadata": {},
   "source": [
    "### Program for Multiplication of a table"
   ]
  },
  {
   "cell_type": "code",
   "execution_count": 288,
   "id": "c89bd0a5-c02e-4e19-a08b-8ffcbc10ff04",
   "metadata": {},
   "outputs": [
    {
     "name": "stdin",
     "output_type": "stream",
     "text": [
      "enter a number: 20\n"
     ]
    },
    {
     "name": "stdout",
     "output_type": "stream",
     "text": [
      "20\n",
      "40\n",
      "60\n",
      "80\n",
      "100\n",
      "120\n",
      "140\n",
      "160\n",
      "180\n",
      "200\n"
     ]
    }
   ],
   "source": [
    "num=int(input(\"enter a number:\"))\n",
    "for i in range(1,11):\n",
    "        print(num*i)"
   ]
  },
  {
   "cell_type": "markdown",
   "id": "f7643fbd-fefc-4773-93de-accfb91df094",
   "metadata": {},
   "source": [
    "### Write a program for reverse the list"
   ]
  },
  {
   "cell_type": "code",
   "execution_count": 232,
   "id": "08b5e143-5117-4353-96b9-a957e237dcf5",
   "metadata": {},
   "outputs": [
    {
     "name": "stdout",
     "output_type": "stream",
     "text": [
      "[100, 90, 80, 70, 60, 50, 40, 30, 20, 10]\n"
     ]
    }
   ],
   "source": [
    "list=[10,20,30,40,50,60,70,80,90,100]\n",
    "num=list[::-1]\n",
    "print(num)"
   ]
  },
  {
   "cell_type": "markdown",
   "id": "106113a4-7149-496b-8c35-ab6434768ac8",
   "metadata": {},
   "source": [
    "### Program for display for -10 to -1 using loop"
   ]
  },
  {
   "cell_type": "code",
   "execution_count": 236,
   "id": "4b16de5d-a4e5-49bc-8219-f0f48d118c80",
   "metadata": {},
   "outputs": [
    {
     "name": "stdout",
     "output_type": "stream",
     "text": [
      "-10\n",
      "-9\n",
      "-8\n",
      "-7\n",
      "-6\n",
      "-5\n",
      "-4\n",
      "-3\n",
      "-2\n",
      "-1\n"
     ]
    }
   ],
   "source": [
    "i=-10\n",
    "while i<=-1:\n",
    "    print(i)\n",
    "    i=i+1"
   ]
  },
  {
   "cell_type": "markdown",
   "id": "d0a95cc4-660a-4187-b5a5-583d06cc0175",
   "metadata": {},
   "source": [
    "### program for Calculating number of digits in a number "
   ]
  },
  {
   "cell_type": "code",
   "execution_count": 298,
   "id": "c636f285-6292-42df-9270-7ec9842029e5",
   "metadata": {},
   "outputs": [
    {
     "name": "stdin",
     "output_type": "stream",
     "text": [
      "enter a number: 45562\n"
     ]
    },
    {
     "name": "stdout",
     "output_type": "stream",
     "text": [
      "the number is 45562 digits  is 5\n"
     ]
    }
   ],
   "source": [
    "num=int(input(\"enter a number:\"))\n",
    "count=0\n",
    "for i in str(num):\n",
    "    count+=1\n",
    "print(f\"the number is {num} digits  is {count}\")"
   ]
  },
  {
   "cell_type": "code",
   "execution_count": null,
   "id": "7db596f1-f6ea-413f-bb8d-55be9a93afb6",
   "metadata": {},
   "outputs": [],
   "source": []
  }
 ],
 "metadata": {
  "kernelspec": {
   "display_name": "Python 3 (ipykernel)",
   "language": "python",
   "name": "python3"
  },
  "language_info": {
   "codemirror_mode": {
    "name": "ipython",
    "version": 3
   },
   "file_extension": ".py",
   "mimetype": "text/x-python",
   "name": "python",
   "nbconvert_exporter": "python",
   "pygments_lexer": "ipython3",
   "version": "3.12.4"
  }
 },
 "nbformat": 4,
 "nbformat_minor": 5
}
